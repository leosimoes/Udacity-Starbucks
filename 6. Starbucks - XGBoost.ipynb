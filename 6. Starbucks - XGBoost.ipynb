{
 "cells": [
  {
   "cell_type": "markdown",
   "metadata": {},
   "source": [
    "# Starbucks - XGBoost\n",
    "\n",
    "    Udacity - Machine Learning Engineer Nanodegree Program\n",
    "    Author: Leonardo Simões\n",
    "    \n",
    "**Here the XGBoost algorithm will be used to perform a multilabel classification of the type of offer. The dataset used will only be 'offers'. At the end of the process, the accuracy of the model will be calculated.**"
   ]
  },
  {
   "cell_type": "code",
   "execution_count": 1,
   "metadata": {},
   "outputs": [],
   "source": [
    "# imports\n",
    "import os\n",
    "import numpy as np\n",
    "import pandas as pd\n",
    "import boto3\n",
    "import sagemaker\n",
    "from sagemaker.amazon.amazon_estimator import get_image_uri \n",
    "import matplotlib.pyplot as plt\n",
    "#from sagemaker.xgboost.estimator import XGBoost"
   ]
  },
  {
   "cell_type": "markdown",
   "metadata": {},
   "source": [
    "## AWS Sagemaker configurations"
   ]
  },
  {
   "cell_type": "code",
   "execution_count": 3,
   "metadata": {},
   "outputs": [],
   "source": [
    "# session and role\n",
    "sagemaker_session = sagemaker.Session()\n",
    "role = sagemaker.get_execution_role()\n",
    "\n",
    "# create an S3 bucket\n",
    "bucket = sagemaker_session.default_bucket()"
   ]
  },
  {
   "cell_type": "code",
   "execution_count": 4,
   "metadata": {},
   "outputs": [
    {
     "data": {
      "text/plain": [
       "'s3://sagemaker-sa-east-1-377572488885/data'"
      ]
     },
     "execution_count": 4,
     "metadata": {},
     "output_type": "execute_result"
    }
   ],
   "source": [
    "# should be the name of directory you created to save your features data\n",
    "data_dir = 'data'\n",
    "\n",
    "# set prefix, a descriptive name for a directory  \n",
    "prefix = 'data'\n",
    "\n",
    "# upload all data to S3\n",
    "input_data = sagemaker_session.upload_data(path=data_dir, bucket=bucket, key_prefix=prefix)\n",
    "input_data"
   ]
  },
  {
   "cell_type": "code",
   "execution_count": 5,
   "metadata": {},
   "outputs": [
    {
     "data": {
      "text/plain": [
       "'s3://sagemaker-sa-east-1-377572488885/data'"
      ]
     },
     "execution_count": 5,
     "metadata": {},
     "output_type": "execute_result"
    }
   ],
   "source": [
    "output_path = 's3://{}/{}'.format(bucket, prefix)\n",
    "output_path"
   ]
  },
  {
   "cell_type": "markdown",
   "metadata": {},
   "source": [
    "## Train and test data"
   ]
  },
  {
   "cell_type": "code",
   "execution_count": 6,
   "metadata": {},
   "outputs": [
    {
     "name": "stdout",
     "output_type": "stream",
     "text": [
      "data/X_test.csv\n",
      "data/X_train.csv\n",
      "data/offers.csv\n",
      "data/offers_ml.csv\n",
      "data/portfolio.json\n",
      "data/profile.json\n",
      "data/train.csv\n",
      "data/transactions.csv\n",
      "data/transcript.json\n",
      "data/y_test.csv\n",
      "data/y_train.csv\n",
      "Test passed!\n"
     ]
    }
   ],
   "source": [
    "# confirm that data is in S3 bucket\n",
    "empty_check = []\n",
    "for obj in boto3.resource('s3').Bucket(bucket).objects.all():\n",
    "    empty_check.append(obj.key)\n",
    "    print(obj.key)\n",
    "\n",
    "assert len(empty_check) !=0, 'S3 bucket is empty.'\n",
    "print('Test passed!')"
   ]
  },
  {
   "cell_type": "code",
   "execution_count": 16,
   "metadata": {},
   "outputs": [
    {
     "data": {
      "text/html": [
       "<div>\n",
       "<style scoped>\n",
       "    .dataframe tbody tr th:only-of-type {\n",
       "        vertical-align: middle;\n",
       "    }\n",
       "\n",
       "    .dataframe tbody tr th {\n",
       "        vertical-align: top;\n",
       "    }\n",
       "\n",
       "    .dataframe thead th {\n",
       "        text-align: right;\n",
       "    }\n",
       "</style>\n",
       "<table border=\"1\" class=\"dataframe\">\n",
       "  <thead>\n",
       "    <tr style=\"text-align: right;\">\n",
       "      <th></th>\n",
       "      <th>reward</th>\n",
       "      <th>difficulty</th>\n",
       "      <th>duration</th>\n",
       "      <th>mobile</th>\n",
       "      <th>social</th>\n",
       "      <th>web</th>\n",
       "    </tr>\n",
       "  </thead>\n",
       "  <tbody>\n",
       "    <tr>\n",
       "      <th>0</th>\n",
       "      <td>5.0</td>\n",
       "      <td>5.0</td>\n",
       "      <td>5.0</td>\n",
       "      <td>1.0</td>\n",
       "      <td>1.0</td>\n",
       "      <td>1.0</td>\n",
       "    </tr>\n",
       "    <tr>\n",
       "      <th>1</th>\n",
       "      <td>10.0</td>\n",
       "      <td>10.0</td>\n",
       "      <td>5.0</td>\n",
       "      <td>1.0</td>\n",
       "      <td>1.0</td>\n",
       "      <td>1.0</td>\n",
       "    </tr>\n",
       "    <tr>\n",
       "      <th>2</th>\n",
       "      <td>5.0</td>\n",
       "      <td>5.0</td>\n",
       "      <td>5.0</td>\n",
       "      <td>1.0</td>\n",
       "      <td>1.0</td>\n",
       "      <td>1.0</td>\n",
       "    </tr>\n",
       "    <tr>\n",
       "      <th>3</th>\n",
       "      <td>5.0</td>\n",
       "      <td>5.0</td>\n",
       "      <td>5.0</td>\n",
       "      <td>1.0</td>\n",
       "      <td>1.0</td>\n",
       "      <td>1.0</td>\n",
       "    </tr>\n",
       "    <tr>\n",
       "      <th>4</th>\n",
       "      <td>0.0</td>\n",
       "      <td>0.0</td>\n",
       "      <td>3.0</td>\n",
       "      <td>1.0</td>\n",
       "      <td>1.0</td>\n",
       "      <td>0.0</td>\n",
       "    </tr>\n",
       "  </tbody>\n",
       "</table>\n",
       "</div>"
      ],
      "text/plain": [
       "   reward  difficulty  duration  mobile  social  web\n",
       "0     5.0         5.0       5.0     1.0     1.0  1.0\n",
       "1    10.0        10.0       5.0     1.0     1.0  1.0\n",
       "2     5.0         5.0       5.0     1.0     1.0  1.0\n",
       "3     5.0         5.0       5.0     1.0     1.0  1.0\n",
       "4     0.0         0.0       3.0     1.0     1.0  0.0"
      ]
     },
     "execution_count": 16,
     "metadata": {},
     "output_type": "execute_result"
    }
   ],
   "source": [
    "x_test_path = output_path + '/X_test.csv'\n",
    "x_test = pd.read_csv(x_test_path, names=None, dtype='float32')\n",
    "x_test.head()"
   ]
  },
  {
   "cell_type": "code",
   "execution_count": 17,
   "metadata": {},
   "outputs": [
    {
     "data": {
      "text/plain": [
       "array([[ 5.,  5.,  5.,  1.,  1.,  1.],\n",
       "       [10., 10.,  5.,  1.,  1.,  1.],\n",
       "       [ 5.,  5.,  5.,  1.,  1.,  1.],\n",
       "       ...,\n",
       "       [ 3.,  7.,  7.,  1.,  1.,  1.],\n",
       "       [10., 10.,  7.,  1.,  1.,  0.],\n",
       "       [10., 10.,  7.,  1.,  1.,  0.]], dtype=float32)"
      ]
     },
     "execution_count": 17,
     "metadata": {},
     "output_type": "execute_result"
    }
   ],
   "source": [
    "test_x_np = x_test.to_numpy()\n",
    "test_x_np"
   ]
  },
  {
   "cell_type": "code",
   "execution_count": 18,
   "metadata": {},
   "outputs": [
    {
     "data": {
      "text/html": [
       "<div>\n",
       "<style scoped>\n",
       "    .dataframe tbody tr th:only-of-type {\n",
       "        vertical-align: middle;\n",
       "    }\n",
       "\n",
       "    .dataframe tbody tr th {\n",
       "        vertical-align: top;\n",
       "    }\n",
       "\n",
       "    .dataframe thead th {\n",
       "        text-align: right;\n",
       "    }\n",
       "</style>\n",
       "<table border=\"1\" class=\"dataframe\">\n",
       "  <thead>\n",
       "    <tr style=\"text-align: right;\">\n",
       "      <th></th>\n",
       "      <th>offer_label</th>\n",
       "    </tr>\n",
       "  </thead>\n",
       "  <tbody>\n",
       "    <tr>\n",
       "      <th>0</th>\n",
       "      <td>1.0</td>\n",
       "    </tr>\n",
       "    <tr>\n",
       "      <th>1</th>\n",
       "      <td>1.0</td>\n",
       "    </tr>\n",
       "    <tr>\n",
       "      <th>2</th>\n",
       "      <td>1.0</td>\n",
       "    </tr>\n",
       "    <tr>\n",
       "      <th>3</th>\n",
       "      <td>1.0</td>\n",
       "    </tr>\n",
       "    <tr>\n",
       "      <th>4</th>\n",
       "      <td>0.0</td>\n",
       "    </tr>\n",
       "  </tbody>\n",
       "</table>\n",
       "</div>"
      ],
      "text/plain": [
       "   offer_label\n",
       "0          1.0\n",
       "1          1.0\n",
       "2          1.0\n",
       "3          1.0\n",
       "4          0.0"
      ]
     },
     "execution_count": 18,
     "metadata": {},
     "output_type": "execute_result"
    }
   ],
   "source": [
    "y_test_path = output_path + '/y_test.csv'\n",
    "y_test = pd.read_csv(y_test_path, names=None, dtype='float32')\n",
    "y_test.head()"
   ]
  },
  {
   "cell_type": "code",
   "execution_count": 19,
   "metadata": {},
   "outputs": [
    {
     "data": {
      "text/plain": [
       "array([1., 1., 1., ..., 2., 1., 1.], dtype=float32)"
      ]
     },
     "execution_count": 19,
     "metadata": {},
     "output_type": "execute_result"
    }
   ],
   "source": [
    "test_y_np = y_test.iloc[:,0].to_numpy()\n",
    "test_y_np"
   ]
  },
  {
   "cell_type": "markdown",
   "metadata": {},
   "source": [
    "## Train model"
   ]
  },
  {
   "cell_type": "code",
   "execution_count": 7,
   "metadata": {},
   "outputs": [
    {
     "name": "stderr",
     "output_type": "stream",
     "text": [
      "'get_image_uri' method will be deprecated in favor of 'ImageURIProvider' class in SageMaker Python SDK v2.\n"
     ]
    }
   ],
   "source": [
    "container = get_image_uri(boto3.Session().region_name,\n",
    "                          'xgboost', \n",
    "                          repo_version='1.0-1')"
   ]
  },
  {
   "cell_type": "code",
   "execution_count": 8,
   "metadata": {},
   "outputs": [
    {
     "name": "stderr",
     "output_type": "stream",
     "text": [
      "Parameter image_name will be renamed to image_uri in SageMaker Python SDK v2.\n"
     ]
    }
   ],
   "source": [
    "xgb = sagemaker.estimator.Estimator(image_name=container, \n",
    "                                    role = role, \n",
    "                                    train_instance_count=1, \n",
    "                                    train_instance_type='ml.m4.xlarge',\n",
    "                                    output_path=output_path,\n",
    "                                    sagemaker_session=sagemaker_session)"
   ]
  },
  {
   "cell_type": "code",
   "execution_count": 12,
   "metadata": {},
   "outputs": [],
   "source": [
    "xgb.set_hyperparameters(max_depth=5,\n",
    "                        eta=0.2,\n",
    "                        gamma=4,\n",
    "                        min_child_weight=6,\n",
    "                        subsample=0.8,\n",
    "                        silent=0,\n",
    "                        objective='multi:softmax',\n",
    "                        num_round=100,\n",
    "                        num_class=3)"
   ]
  },
  {
   "cell_type": "code",
   "execution_count": 22,
   "metadata": {},
   "outputs": [
    {
     "ename": "AttributeError",
     "evalue": "'Estimator' object has no attribute 'record_set'",
     "output_type": "error",
     "traceback": [
      "\u001b[0;31m---------------------------------------------------------------------------\u001b[0m",
      "\u001b[0;31mAttributeError\u001b[0m                            Traceback (most recent call last)",
      "\u001b[0;32m<ipython-input-22-61767e8d2c32>\u001b[0m in \u001b[0;36m<module>\u001b[0;34m\u001b[0m\n\u001b[0;32m----> 1\u001b[0;31m \u001b[0mformatted_train_data\u001b[0m \u001b[0;34m=\u001b[0m \u001b[0mxgb\u001b[0m\u001b[0;34m.\u001b[0m\u001b[0mrecord_set\u001b[0m\u001b[0;34m(\u001b[0m\u001b[0mtrain_x_np\u001b[0m\u001b[0;34m,\u001b[0m \u001b[0mlabels\u001b[0m\u001b[0;34m=\u001b[0m\u001b[0mtrain_y_np\u001b[0m\u001b[0;34m)\u001b[0m\u001b[0;34m\u001b[0m\u001b[0;34m\u001b[0m\u001b[0m\n\u001b[0m",
      "\u001b[0;31mAttributeError\u001b[0m: 'Estimator' object has no attribute 'record_set'"
     ]
    }
   ],
   "source": [
    "#formatted_train_data = xgb.record_set(train_x_np, labels=train_y_np)"
   ]
  },
  {
   "cell_type": "code",
   "execution_count": 36,
   "metadata": {},
   "outputs": [
    {
     "name": "stderr",
     "output_type": "stream",
     "text": [
      "'s3_input' class will be renamed to 'TrainingInput' in SageMaker Python SDK v2.\n"
     ]
    }
   ],
   "source": [
    "#s3_input_train = sagemaker.s3_input(s3_data=output_path, content_type='csv')"
   ]
  },
  {
   "cell_type": "code",
   "execution_count": 39,
   "metadata": {},
   "outputs": [
    {
     "name": "stderr",
     "output_type": "stream",
     "text": [
      "'s3_input' class will be renamed to 'TrainingInput' in SageMaker Python SDK v2.\n"
     ]
    }
   ],
   "source": [
    "#s3_input_train2 = sagemaker.s3_input(s3_data=output_path + '/train.csv', content_type='csv')"
   ]
  },
  {
   "cell_type": "code",
   "execution_count": 10,
   "metadata": {},
   "outputs": [
    {
     "name": "stderr",
     "output_type": "stream",
     "text": [
      "'s3_input' class will be renamed to 'TrainingInput' in SageMaker Python SDK v2.\n"
     ]
    }
   ],
   "source": [
    "s3_input_train3 = sagemaker.s3_input(s3_data=input_data + '/train.csv', content_type='csv')"
   ]
  },
  {
   "cell_type": "code",
   "execution_count": 13,
   "metadata": {},
   "outputs": [
    {
     "name": "stdout",
     "output_type": "stream",
     "text": [
      "2020-10-21 20:47:42 Starting - Starting the training job...\n",
      "2020-10-21 20:47:45 Starting - Launching requested ML instances......\n",
      "2020-10-21 20:48:49 Starting - Preparing the instances for training......\n",
      "2020-10-21 20:49:50 Downloading - Downloading input data...\n",
      "2020-10-21 20:50:28 Training - Downloading the training image..\u001b[34mINFO:sagemaker-containers:Imported framework sagemaker_xgboost_container.training\u001b[0m\n",
      "\u001b[34mINFO:sagemaker-containers:Failed to parse hyperparameter objective value multi:softmax to Json.\u001b[0m\n",
      "\u001b[34mReturning the value itself\u001b[0m\n",
      "\u001b[34mINFO:sagemaker-containers:No GPUs detected (normal if no gpus installed)\u001b[0m\n",
      "\u001b[34mINFO:sagemaker_xgboost_container.training:Running XGBoost Sagemaker in algorithm mode\u001b[0m\n",
      "\u001b[34mINFO:root:Determined delimiter of CSV input is ','\u001b[0m\n",
      "\u001b[34mINFO:root:Determined delimiter of CSV input is ','\u001b[0m\n",
      "\u001b[34m[20:50:51] 111324x6 matrix with 667944 entries loaded from /opt/ml/input/data/train?format=csv&label_column=0&delimiter=,\u001b[0m\n",
      "\u001b[34mINFO:root:Single node training.\u001b[0m\n",
      "\u001b[34mINFO:root:Train matrix has 111324 rows\u001b[0m\n",
      "\u001b[34m[20:50:51] WARNING: /workspace/src/learner.cc:328: \u001b[0m\n",
      "\u001b[34mParameters: { num_round, silent } might not be used.\n",
      "\n",
      "  This may not be accurate due to some parameters are only used in language bindings but\n",
      "  passed down to XGBoost core.  Or some parameters are not used but slip through this\n",
      "  verification. Please open an issue if you find above cases.\n",
      "\n",
      "\u001b[0m\n",
      "\u001b[34m[0]#011train-merror:0.00000\u001b[0m\n",
      "\u001b[34m[1]#011train-merror:0.00000\u001b[0m\n",
      "\u001b[34m[2]#011train-merror:0.00000\u001b[0m\n",
      "\u001b[34m[3]#011train-merror:0.00000\u001b[0m\n",
      "\u001b[34m[4]#011train-merror:0.00000\u001b[0m\n",
      "\u001b[34m[5]#011train-merror:0.00000\u001b[0m\n",
      "\u001b[34m[6]#011train-merror:0.00000\u001b[0m\n",
      "\u001b[34m[7]#011train-merror:0.00000\u001b[0m\n",
      "\u001b[34m[8]#011train-merror:0.00000\u001b[0m\n",
      "\u001b[34m[9]#011train-merror:0.00000\u001b[0m\n",
      "\u001b[34m[10]#011train-merror:0.00000\u001b[0m\n",
      "\u001b[34m[11]#011train-merror:0.00000\u001b[0m\n",
      "\u001b[34m[12]#011train-merror:0.00000\u001b[0m\n",
      "\u001b[34m[13]#011train-merror:0.00000\u001b[0m\n",
      "\u001b[34m[14]#011train-merror:0.00000\u001b[0m\n",
      "\u001b[34m[15]#011train-merror:0.00000\u001b[0m\n",
      "\u001b[34m[16]#011train-merror:0.00000\u001b[0m\n",
      "\u001b[34m[17]#011train-merror:0.00000\u001b[0m\n",
      "\u001b[34m[18]#011train-merror:0.00000\u001b[0m\n",
      "\u001b[34m[19]#011train-merror:0.00000\u001b[0m\n",
      "\u001b[34m[20]#011train-merror:0.00000\u001b[0m\n",
      "\u001b[34m[21]#011train-merror:0.00000\u001b[0m\n",
      "\u001b[34m[22]#011train-merror:0.00000\u001b[0m\n",
      "\u001b[34m[23]#011train-merror:0.00000\u001b[0m\n",
      "\u001b[34m[24]#011train-merror:0.00000\u001b[0m\n",
      "\u001b[34m[25]#011train-merror:0.00000\u001b[0m\n",
      "\u001b[34m[26]#011train-merror:0.00000\u001b[0m\n",
      "\u001b[34m[27]#011train-merror:0.00000\u001b[0m\n",
      "\u001b[34m[28]#011train-merror:0.00000\u001b[0m\n",
      "\u001b[34m[29]#011train-merror:0.00000\u001b[0m\n",
      "\u001b[34m[30]#011train-merror:0.00000\u001b[0m\n",
      "\u001b[34m[31]#011train-merror:0.00000\u001b[0m\n",
      "\u001b[34m[32]#011train-merror:0.00000\u001b[0m\n",
      "\u001b[34m[33]#011train-merror:0.00000\u001b[0m\n",
      "\u001b[34m[34]#011train-merror:0.00000\u001b[0m\n",
      "\u001b[34m[35]#011train-merror:0.00000\u001b[0m\n",
      "\u001b[34m[36]#011train-merror:0.00000\u001b[0m\n",
      "\u001b[34m[37]#011train-merror:0.00000\u001b[0m\n",
      "\u001b[34m[38]#011train-merror:0.00000\u001b[0m\n",
      "\u001b[34m[39]#011train-merror:0.00000\u001b[0m\n",
      "\u001b[34m[40]#011train-merror:0.00000\u001b[0m\n",
      "\u001b[34m[41]#011train-merror:0.00000\u001b[0m\n",
      "\u001b[34m[42]#011train-merror:0.00000\u001b[0m\n",
      "\u001b[34m[43]#011train-merror:0.00000\u001b[0m\n",
      "\u001b[34m[44]#011train-merror:0.00000\u001b[0m\n",
      "\u001b[34m[45]#011train-merror:0.00000\u001b[0m\n",
      "\u001b[34m[46]#011train-merror:0.00000\u001b[0m\n",
      "\u001b[34m[47]#011train-merror:0.00000\u001b[0m\n",
      "\u001b[34m[48]#011train-merror:0.00000\u001b[0m\n",
      "\u001b[34m[49]#011train-merror:0.00000\u001b[0m\n",
      "\u001b[34m[50]#011train-merror:0.00000\u001b[0m\n",
      "\u001b[34m[51]#011train-merror:0.00000\u001b[0m\n",
      "\u001b[34m[52]#011train-merror:0.00000\u001b[0m\n",
      "\u001b[34m[53]#011train-merror:0.00000\u001b[0m\n",
      "\u001b[34m[54]#011train-merror:0.00000\u001b[0m\n",
      "\u001b[34m[55]#011train-merror:0.00000\u001b[0m\n",
      "\u001b[34m[56]#011train-merror:0.00000\u001b[0m\n",
      "\u001b[34m[57]#011train-merror:0.00000\u001b[0m\n",
      "\u001b[34m[58]#011train-merror:0.00000\u001b[0m\n",
      "\u001b[34m[59]#011train-merror:0.00000\u001b[0m\n",
      "\u001b[34m[60]#011train-merror:0.00000\u001b[0m\n",
      "\u001b[34m[61]#011train-merror:0.00000\u001b[0m\n",
      "\u001b[34m[62]#011train-merror:0.00000\u001b[0m\n",
      "\u001b[34m[63]#011train-merror:0.00000\u001b[0m\n",
      "\u001b[34m[64]#011train-merror:0.00000\u001b[0m\n",
      "\u001b[34m[65]#011train-merror:0.00000\u001b[0m\n",
      "\u001b[34m[66]#011train-merror:0.00000\u001b[0m\n",
      "\u001b[34m[67]#011train-merror:0.00000\u001b[0m\n",
      "\u001b[34m[68]#011train-merror:0.00000\u001b[0m\n",
      "\u001b[34m[69]#011train-merror:0.00000\u001b[0m\n",
      "\u001b[34m[70]#011train-merror:0.00000\u001b[0m\n",
      "\u001b[34m[71]#011train-merror:0.00000\u001b[0m\n",
      "\u001b[34m[72]#011train-merror:0.00000\u001b[0m\n",
      "\u001b[34m[73]#011train-merror:0.00000\u001b[0m\n",
      "\u001b[34m[74]#011train-merror:0.00000\u001b[0m\n",
      "\u001b[34m[75]#011train-merror:0.00000\u001b[0m\n",
      "\u001b[34m[76]#011train-merror:0.00000\u001b[0m\n",
      "\u001b[34m[77]#011train-merror:0.00000\u001b[0m\n",
      "\u001b[34m[78]#011train-merror:0.00000\u001b[0m\n",
      "\u001b[34m[79]#011train-merror:0.00000\u001b[0m\n",
      "\u001b[34m[80]#011train-merror:0.00000\u001b[0m\n",
      "\u001b[34m[81]#011train-merror:0.00000\u001b[0m\n",
      "\u001b[34m[82]#011train-merror:0.00000\u001b[0m\n",
      "\u001b[34m[83]#011train-merror:0.00000\u001b[0m\n",
      "\u001b[34m[84]#011train-merror:0.00000\u001b[0m\n",
      "\u001b[34m[85]#011train-merror:0.00000\u001b[0m\n",
      "\u001b[34m[86]#011train-merror:0.00000\u001b[0m\n",
      "\n",
      "2020-10-21 20:51:12 Uploading - Uploading generated training model\n",
      "2020-10-21 20:51:12 Completed - Training job completed\n",
      "\u001b[34m[87]#011train-merror:0.00000\u001b[0m\n",
      "\u001b[34m[88]#011train-merror:0.00000\u001b[0m\n",
      "\u001b[34m[89]#011train-merror:0.00000\u001b[0m\n",
      "\u001b[34m[90]#011train-merror:0.00000\u001b[0m\n",
      "\u001b[34m[91]#011train-merror:0.00000\u001b[0m\n",
      "\u001b[34m[92]#011train-merror:0.00000\u001b[0m\n",
      "\u001b[34m[93]#011train-merror:0.00000\u001b[0m\n",
      "\u001b[34m[94]#011train-merror:0.00000\u001b[0m\n",
      "\u001b[34m[95]#011train-merror:0.00000\u001b[0m\n",
      "\u001b[34m[96]#011train-merror:0.00000\u001b[0m\n",
      "\u001b[34m[97]#011train-merror:0.00000\u001b[0m\n",
      "\u001b[34m[98]#011train-merror:0.00000\u001b[0m\n",
      "\u001b[34m[99]#011train-merror:0.00000\u001b[0m\n",
      "Training seconds: 82\n",
      "Billable seconds: 82\n",
      "CPU times: user 456 ms, sys: 21.5 ms, total: 478 ms\n",
      "Wall time: 3min 42s\n"
     ]
    }
   ],
   "source": [
    "%%time\n",
    "xgb.fit({'train': s3_input_train3});"
   ]
  },
  {
   "cell_type": "code",
   "execution_count": 15,
   "metadata": {},
   "outputs": [
    {
     "name": "stderr",
     "output_type": "stream",
     "text": [
      "Parameter image will be renamed to image_uri in SageMaker Python SDK v2.\n"
     ]
    },
    {
     "name": "stdout",
     "output_type": "stream",
     "text": [
      "---------------!CPU times: user 271 ms, sys: 7.98 ms, total: 279 ms\n",
      "Wall time: 7min 32s\n"
     ]
    }
   ],
   "source": [
    "%%time\n",
    "# deploy your model to create a predictor\n",
    "predictor = xgb.deploy(initial_instance_count=1, instance_type='ml.t2.medium')"
   ]
  },
  {
   "cell_type": "code",
   "execution_count": 28,
   "metadata": {},
   "outputs": [],
   "source": [
    "from sagemaker.predictor import csv_serializer\n",
    "\n",
    "predictor.content_type = 'text/csv'\n",
    "predictor.serializer = csv_serializer\n",
    "predictor.deserializer = None"
   ]
  },
  {
   "cell_type": "code",
   "execution_count": 30,
   "metadata": {},
   "outputs": [
    {
     "name": "stderr",
     "output_type": "stream",
     "text": [
      "'s3_input' class will be renamed to 'TrainingInput' in SageMaker Python SDK v2.\n"
     ]
    }
   ],
   "source": [
    "s3_input_test = sagemaker.s3_input(s3_data=input_data + '/X_test.csv', content_type='csv')"
   ]
  },
  {
   "cell_type": "code",
   "execution_count": 37,
   "metadata": {},
   "outputs": [],
   "source": [
    "test_preds = predictor.predict(x_test.values).decode('utf-8')"
   ]
  },
  {
   "cell_type": "code",
   "execution_count": 42,
   "metadata": {},
   "outputs": [
    {
     "data": {
      "text/plain": [
       "array([1., 1., 1., ..., 2., 1., 1.])"
      ]
     },
     "execution_count": 42,
     "metadata": {},
     "output_type": "execute_result"
    }
   ],
   "source": [
    "test_y_preds = np.fromstring(test_preds, sep=',')\n",
    "test_y_preds"
   ]
  },
  {
   "cell_type": "code",
   "execution_count": 43,
   "metadata": {},
   "outputs": [
    {
     "name": "stdout",
     "output_type": "stream",
     "text": [
      "Test passed!\n"
     ]
    }
   ],
   "source": [
    "# test that your model generates the correct number of labels\n",
    "assert len(test_y_preds)==len(test_y_np), 'Unexpected number of predictions.'\n",
    "print('Test passed!')"
   ]
  },
  {
   "cell_type": "markdown",
   "metadata": {},
   "source": [
    "## Model evaluation"
   ]
  },
  {
   "cell_type": "code",
   "execution_count": 46,
   "metadata": {},
   "outputs": [
    {
     "name": "stdout",
     "output_type": "stream",
     "text": [
      "1.0\n",
      "\n",
      "Predicted class labels: \n",
      "[1. 1. 1. ... 2. 1. 1.]\n",
      "\n",
      "True class labels: \n",
      "[1. 1. 1. ... 2. 1. 1.]\n"
     ]
    }
   ],
   "source": [
    "from sklearn.metrics import accuracy_score\n",
    "\n",
    "accuracy = accuracy_score(test_y_np, test_y_preds, normalize=True)\n",
    "print(accuracy)\n",
    "\n",
    "print('\\nPredicted class labels: ')\n",
    "print(test_y_preds)\n",
    "print('\\nTrue class labels: ')\n",
    "print(test_y_np)"
   ]
  },
  {
   "cell_type": "code",
   "execution_count": 48,
   "metadata": {},
   "outputs": [
    {
     "name": "stdout",
     "output_type": "stream",
     "text": [
      "Collecting mlxtend\n",
      "  Downloading mlxtend-0.17.3-py2.py3-none-any.whl (1.3 MB)\n",
      "\u001b[K     |████████████████████████████████| 1.3 MB 6.9 MB/s eta 0:00:01\n",
      "\u001b[?25hRequirement already satisfied: setuptools in /home/ec2-user/anaconda3/envs/amazonei_mxnet_p36/lib/python3.6/site-packages (from mlxtend) (45.2.0.post20200210)\n",
      "Requirement already satisfied: pandas>=0.24.2 in /home/ec2-user/anaconda3/envs/amazonei_mxnet_p36/lib/python3.6/site-packages (from mlxtend) (1.0.1)\n",
      "Requirement already satisfied: scikit-learn>=0.20.3 in /home/ec2-user/anaconda3/envs/amazonei_mxnet_p36/lib/python3.6/site-packages (from mlxtend) (0.22.1)\n",
      "Requirement already satisfied: matplotlib>=3.0.0 in /home/ec2-user/anaconda3/envs/amazonei_mxnet_p36/lib/python3.6/site-packages (from mlxtend) (3.1.3)\n",
      "Requirement already satisfied: scipy>=1.2.1 in /home/ec2-user/anaconda3/envs/amazonei_mxnet_p36/lib/python3.6/site-packages (from mlxtend) (1.4.1)\n",
      "Requirement already satisfied: numpy>=1.16.2 in /home/ec2-user/anaconda3/envs/amazonei_mxnet_p36/lib/python3.6/site-packages (from mlxtend) (1.18.1)\n",
      "Requirement already satisfied: joblib>=0.13.2 in /home/ec2-user/anaconda3/envs/amazonei_mxnet_p36/lib/python3.6/site-packages (from mlxtend) (0.14.1)\n",
      "Requirement already satisfied: python-dateutil>=2.6.1 in /home/ec2-user/anaconda3/envs/amazonei_mxnet_p36/lib/python3.6/site-packages (from pandas>=0.24.2->mlxtend) (2.8.1)\n",
      "Requirement already satisfied: pytz>=2017.2 in /home/ec2-user/anaconda3/envs/amazonei_mxnet_p36/lib/python3.6/site-packages (from pandas>=0.24.2->mlxtend) (2019.3)\n",
      "Requirement already satisfied: kiwisolver>=1.0.1 in /home/ec2-user/anaconda3/envs/amazonei_mxnet_p36/lib/python3.6/site-packages (from matplotlib>=3.0.0->mlxtend) (1.1.0)\n",
      "Requirement already satisfied: pyparsing!=2.0.4,!=2.1.2,!=2.1.6,>=2.0.1 in /home/ec2-user/anaconda3/envs/amazonei_mxnet_p36/lib/python3.6/site-packages (from matplotlib>=3.0.0->mlxtend) (2.4.6)\n",
      "Requirement already satisfied: cycler>=0.10 in /home/ec2-user/anaconda3/envs/amazonei_mxnet_p36/lib/python3.6/site-packages (from matplotlib>=3.0.0->mlxtend) (0.10.0)\n",
      "Requirement already satisfied: six>=1.5 in /home/ec2-user/anaconda3/envs/amazonei_mxnet_p36/lib/python3.6/site-packages (from python-dateutil>=2.6.1->pandas>=0.24.2->mlxtend) (1.14.0)\n",
      "Installing collected packages: mlxtend\n",
      "Successfully installed mlxtend-0.17.3\n",
      "\u001b[33mWARNING: You are using pip version 20.0.2; however, version 20.2.4 is available.\n",
      "You should consider upgrading via the '/home/ec2-user/anaconda3/envs/amazonei_mxnet_p36/bin/python -m pip install --upgrade pip' command.\u001b[0m\n",
      "Note: you may need to restart the kernel to use updated packages.\n"
     ]
    }
   ],
   "source": [
    "pip install mlxtend"
   ]
  },
  {
   "cell_type": "code",
   "execution_count": 50,
   "metadata": {},
   "outputs": [
    {
     "name": "stdout",
     "output_type": "stream",
     "text": [
      "[[ 5621     0     0]\n",
      " [    0 16045     0]\n",
      " [    0     0 15442]]\n"
     ]
    }
   ],
   "source": [
    "#contrução da matriz de confusão\n",
    "from sklearn.metrics import classification_report, confusion_matrix\n",
    "matriz_confusao = confusion_matrix(test_y_np, test_y_preds)\n",
    "print(matriz_confusao)"
   ]
  },
  {
   "cell_type": "code",
   "execution_count": 51,
   "metadata": {},
   "outputs": [
    {
     "data": {
      "image/png": "[encoded data removed]",
      "text/plain": [
       "<Figure size 432x288 with 1 Axes>"
      ]
     },
     "metadata": {
      "needs_background": "light"
     },
     "output_type": "display_data"
    }
   ],
   "source": [
    "#realiza o plot da matriz de confusão\n",
    "from mlxtend.plotting import plot_confusion_matrix\n",
    "fig, ax = plot_confusion_matrix(conf_mat=matriz_confusao)\n",
    "plt.show()"
   ]
  },
  {
   "cell_type": "markdown",
   "metadata": {},
   "source": [
    "## Delete endpoint and empty bucket"
   ]
  },
  {
   "cell_type": "code",
   "execution_count": null,
   "metadata": {},
   "outputs": [],
   "source": [
    "#delete endpoint\n",
    "predictor.delete_endpoint()"
   ]
  },
  {
   "cell_type": "code",
   "execution_count": null,
   "metadata": {},
   "outputs": [],
   "source": [
    "# deleting bucket\n",
    "bucket_to_delete = boto3.resource('s3').Bucket(bucket)\n",
    "bucket_to_delete.objects.all().delete()"
   ]
  }
 ],
 "metadata": {
  "kernelspec": {
   "display_name": "conda_amazonei_mxnet_p36",
   "language": "python",
   "name": "conda_amazonei_mxnet_p36"
  },
  "language_info": {
   "codemirror_mode": {
    "name": "ipython",
    "version": 3
   },
   "file_extension": ".py",
   "mimetype": "text/x-python",
   "name": "python",
   "nbconvert_exporter": "python",
   "pygments_lexer": "ipython3",
   "version": "3.6.10"
  }
 },
 "nbformat": 4,
 "nbformat_minor": 4
}
